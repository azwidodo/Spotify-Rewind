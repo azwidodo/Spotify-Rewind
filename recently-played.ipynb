{
 "cells": [
  {
   "cell_type": "code",
   "execution_count": 3,
   "metadata": {},
   "outputs": [],
   "source": [
    "import spotipy\n",
    "from spotipy.oauth2 import SpotifyOAuth"
   ]
  },
  {
   "cell_type": "code",
   "execution_count": 4,
   "metadata": {},
   "outputs": [],
   "source": [
    "client_id = \"bb220ed81d224768974d861001026e87\"\n",
    "client_secret = \"d4d38c973ab340de88d49516e62a4765\"\n",
    "username = \"081584346736\"\n",
    "redirect_uri = \"https://localhost:8080/callback/\""
   ]
  },
  {
   "cell_type": "code",
   "execution_count": 5,
   "metadata": {},
   "outputs": [],
   "source": [
    "scope = \"user-read-recently-played\"\n",
    "\n",
    "auth_manager = SpotifyOAuth(client_id=client_id, client_secret=client_secret, redirect_uri=redirect_uri, username=username, scope=scope)\n",
    "\n",
    "sp = spotipy.Spotify(auth_manager=auth_manager)\n",
    "\n",
    "results = sp.current_user_recently_played(limit=50)\n",
    "\n",
    "print(results[\"next\"])\n",
    "\n"
   ]
  },
  {
   "cell_type": "code",
   "execution_count": 4,
   "metadata": {},
   "outputs": [
    {
     "name": "stdout",
     "output_type": "stream",
     "text": [
      "A Place We Once Walked\n",
      "Stars and Wheels\n",
      "Introit\n",
      "Something Made Out Of Nothing\n",
      "On the Horizon\n",
      "Bells\n",
      "The Turning Year\n",
      "Clearly\n",
      "Hymn\n",
      "Innocence\n",
      "Hope (The Kindness of Strangers)\n",
      "Waltz of Chihiro\n",
      "The Marsh House\n",
      "Reminiscence\n",
      "In the Rain\n",
      "Always with Me (From \"Spirited Away\") [Piano Version]\n",
      "The Rain\n",
      "World Dreams\n",
      "Trails In The Sand\n",
      "Across Long Lakes\n",
      "The Scent Of New Days\n",
      "The Scent Of New Days\n",
      "The Scent Of New Days\n",
      "?\n",
      "Diamond Cove (And Its Children Were Watching)\n",
      "Introspection (Edit)\n",
      "The Girl Who Fell from the Sky (Main Theme)\n",
      "Moon and Poop\n",
      "Departure\n",
      "Running With Hina\n",
      "Our House Below - Instrumental Version\n",
      "Wake up, Moving On\n",
      "Fairytale\n",
      "One Summer Day\n",
      "Anna - Piano Version\n",
      "First Part Time Job As Sunshine Girl\n",
      "Reminiscent of Days - Orchestra Version\n",
      "路小雨\n",
      "Ashitaka and San\n",
      "Theme Variation Abe-kun\n",
      "Katawaredoki\n",
      "Waltz of Chihiro\n",
      "Romantic Flight - From How To Train Your Dragon Music From The Motion Picture\n",
      "Bundle of Joy\n",
      "Signal Flags\n",
      "Family Moments\n",
      "Reprise\n",
      "Summer\n",
      "Bells\n",
      "Clearly\n"
     ]
    }
   ],
   "source": [
    "for item in results[\"items\"]:\n",
    "    print(item[\"track\"][\"name\"])"
   ]
  }
 ],
 "metadata": {
  "interpreter": {
   "hash": "454c700ec26562523cf7e07e6e54eb88fd42b7e5a55dff05356b3389f4a0de34"
  },
  "kernelspec": {
   "display_name": "Python 3.10.0 64-bit ('spotify': conda)",
   "language": "python",
   "name": "python3"
  },
  "language_info": {
   "codemirror_mode": {
    "name": "ipython",
    "version": 3
   },
   "file_extension": ".py",
   "mimetype": "text/x-python",
   "name": "python",
   "nbconvert_exporter": "python",
   "pygments_lexer": "ipython3",
   "version": "3.10.0"
  },
  "orig_nbformat": 4
 },
 "nbformat": 4,
 "nbformat_minor": 2
}
